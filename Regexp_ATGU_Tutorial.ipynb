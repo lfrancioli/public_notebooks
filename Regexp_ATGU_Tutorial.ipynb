{
 "cells": [
  {
   "cell_type": "code",
   "execution_count": null,
   "metadata": {
    "collapsed": false
   },
   "outputs": [],
   "source": [
    "#Import lib\n",
    "import re\n"
   ]
  },
  {
   "cell_type": "code",
   "execution_count": null,
   "metadata": {
    "collapsed": false
   },
   "outputs": [],
   "source": [
    "#Python basics\n",
    "#Match some of the numbers\n",
    "\n",
    "aphonenumber = \"617.111.1617\"\n",
    "m = re.match('',aphonenumber)\n",
    "\n",
    "print(m)\n",
    "print(m.span())\n",
    "print(m.group())\n"
   ]
  },
  {
   "cell_type": "code",
   "execution_count": null,
   "metadata": {
    "collapsed": false
   },
   "outputs": [],
   "source": [
    "#Match 111 using re.match and re.search\n",
    "print(re.match('',aphonenumber))\n",
    "print(re.search('',aphonenumber))"
   ]
  },
  {
   "cell_type": "code",
   "execution_count": null,
   "metadata": {
    "collapsed": false
   },
   "outputs": [],
   "source": [
    "#Special characters\n",
    "#Use a \".\" and match \"111\" and \"11.\"\n",
    "print(re.search('',aphonenumber))\n"
   ]
  },
  {
   "cell_type": "code",
   "execution_count": null,
   "metadata": {
    "collapsed": false
   },
   "outputs": [],
   "source": [
    "#Match the first 617 and the last 617\n",
    "print(re.search('',aphonenumber))\n",
    "print(re.search('',aphonenumber))"
   ]
  },
  {
   "cell_type": "code",
   "execution_count": null,
   "metadata": {
    "collapsed": false
   },
   "outputs": [],
   "source": [
    "#Using Character classes\n",
    "some_presudo_vcf_lines = (\"1 12345 . C T . . . .\",\n",
    "                          \"22 12345 . C T . . . .\",\n",
    "                          \"X 12345 . C T . . . .\",\n",
    "                          \"Y 12345 . C T . . . .\",\n",
    "                          \"MT 12345 . C T . . . .\",\n",
    "                          \"MT2 12345 . C T . . . .\",\n",
    "                          \"GL011101 12345 . C T . . . .\")\n",
    "\n",
    "#Find autosomes, X, Y\n",
    "for line in some_presudo_vcf_lines:\n",
    "    if(re.match('',line)): print(line)\n",
    "\n"
   ]
  },
  {
   "cell_type": "code",
   "execution_count": null,
   "metadata": {
    "collapsed": true
   },
   "outputs": [],
   "source": [
    "#Find all but MT\n",
    "for line in some_presudo_vcf_lines:\n",
    "    if(re.match('',line)): print(line)"
   ]
  },
  {
   "cell_type": "code",
   "execution_count": null,
   "metadata": {
    "collapsed": true
   },
   "outputs": [],
   "source": [
    "#Find all non-autosomes\n",
    "for line in some_presudo_vcf_lines:\n",
    "    if(re.match('',line)): print(line)"
   ]
  },
  {
   "cell_type": "code",
   "execution_count": null,
   "metadata": {
    "collapsed": false
   },
   "outputs": [],
   "source": [
    "#Capturing groups\n",
    "#Find the CSQ line a VCF header and extract it's description \n",
    "vcf = open(\"exac.head.vcf\")\n",
    "csq_line_regex = ''\n",
    "for line in vcf:\n",
    "    match = re.search(csq_line_regex,line)\n",
    "    if(match): print(match.group(1))\n"
   ]
  },
  {
   "cell_type": "code",
   "execution_count": null,
   "metadata": {
    "collapsed": false
   },
   "outputs": [],
   "source": [
    "#Greedy / minimal and look-ahead\n",
    "#Extract the fields from the CSQ line\n",
    "vcf = open(\"exac.head.vcf\")\n",
    "for line in vcf:\n",
    "    match = re.search(csq_line_regex,line)\n",
    "    if(match):\n",
    "        print(match.group(1))\n",
    "        fields = re.findall('',match.group(1))\n",
    "        print(fields)"
   ]
  },
  {
   "cell_type": "code",
   "execution_count": null,
   "metadata": {
    "collapsed": false
   },
   "outputs": [],
   "source": [
    "#Capturing groups 2\n",
    "#Get all VCF lines where all alleles are in AFR\n",
    "#That is AC_AFR == AC\n",
    "vcf = open(\"exac.head.vcf\")\n",
    "for line in vcf:\n",
    "    match = re.search('',line)\n",
    "    if(match): print(match.group(0))\n",
    "\n",
    "\n"
   ]
  },
  {
   "cell_type": "code",
   "execution_count": null,
   "metadata": {
    "collapsed": false
   },
   "outputs": [],
   "source": [
    "#More regex python functions\n",
    "#Split the interval line into an array\n",
    "interval_line = \"1:12345-678910\"\n",
    "\n",
    "print(re.split('[:-]',interval_line))\n"
   ]
  },
  {
   "cell_type": "code",
   "execution_count": null,
   "metadata": {
    "collapsed": true
   },
   "outputs": [],
   "source": [
    "#Substitute the : and - separators with tabs\n",
    "print(re.sub('','',interval_line))"
   ]
  },
  {
   "cell_type": "code",
   "execution_count": null,
   "metadata": {
    "collapsed": false
   },
   "outputs": [],
   "source": [
    "#Ignoring case\n",
    "#Use case-incensitive flag to separate and lowercase the blah's\n",
    "more_annoying_data = \"blahBLAHBlAh\"\n",
    "print(re.sub('','',more_annoying_data,flags=re.I))\n",
    "\n"
   ]
  }
 ],
 "metadata": {
  "kernelspec": {
   "display_name": "Python 3",
   "language": "python",
   "name": "python3"
  },
  "language_info": {
   "codemirror_mode": {
    "name": "ipython",
    "version": 3
   },
   "file_extension": ".py",
   "mimetype": "text/x-python",
   "name": "python",
   "nbconvert_exporter": "python",
   "pygments_lexer": "ipython3",
   "version": "3.5.1"
  }
 },
 "nbformat": 4,
 "nbformat_minor": 0
}
