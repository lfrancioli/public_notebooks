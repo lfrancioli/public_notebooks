{
 "cells": [
  {
   "cell_type": "code",
   "execution_count": 2,
   "metadata": {
    "collapsed": false
   },
   "outputs": [],
   "source": [
    "#Import lib\n",
    "import re\n"
   ]
  },
  {
   "cell_type": "code",
   "execution_count": 3,
   "metadata": {
    "collapsed": false
   },
   "outputs": [
    {
     "name": "stdout",
     "output_type": "stream",
     "text": [
      "<_sre.SRE_Match object; span=(0, 3), match='617'>\n",
      "(0, 3)\n",
      "617\n"
     ]
    }
   ],
   "source": [
    "#Python basics\n",
    "\n",
    "aphonenumber = \"617.111.1617\"\n",
    "m = re.match('617',aphonenumber)\n",
    "\n",
    "print(m)\n",
    "print(m.span())\n",
    "print(m.group())\n"
   ]
  },
  {
   "cell_type": "code",
   "execution_count": 4,
   "metadata": {
    "collapsed": false
   },
   "outputs": [
    {
     "name": "stdout",
     "output_type": "stream",
     "text": [
      "None\n",
      "<_sre.SRE_Match object; span=(4, 7), match='111'>\n"
     ]
    }
   ],
   "source": [
    "print(re.match('111',aphonenumber))\n",
    "print(re.search('111',aphonenumber))"
   ]
  },
  {
   "cell_type": "code",
   "execution_count": 5,
   "metadata": {
    "collapsed": false
   },
   "outputs": [
    {
     "name": "stdout",
     "output_type": "stream",
     "text": [
      "<_sre.SRE_Match object; span=(4, 7), match='111'>\n"
     ]
    }
   ],
   "source": [
    "#Special characters\n",
    "print(re.search('11.',aphonenumber))\n"
   ]
  },
  {
   "cell_type": "code",
   "execution_count": 6,
   "metadata": {
    "collapsed": false
   },
   "outputs": [
    {
     "name": "stdout",
     "output_type": "stream",
     "text": [
      "<_sre.SRE_Match object; span=(0, 3), match='617'>\n",
      "<_sre.SRE_Match object; span=(9, 12), match='617'>\n"
     ]
    }
   ],
   "source": [
    "print(re.search('^617',aphonenumber))\n",
    "print(re.search('617$',aphonenumber))"
   ]
  },
  {
   "cell_type": "code",
   "execution_count": 7,
   "metadata": {
    "collapsed": false
   },
   "outputs": [
    {
     "name": "stdout",
     "output_type": "stream",
     "text": [
      "1 12345 . C T . . . .\n",
      "22 12345 . C T . . . .\n",
      "X 12345 . C T . . . .\n",
      "Y 12345 . C T . . . .\n",
      "MT 12345 . C T . . . .\n",
      "MT2 12345 . C T . . . .\n",
      "GL011101 12345 . C T . . . .\n"
     ]
    }
   ],
   "source": [
    "#Character classes\n",
    "some_presudo_vcf_lines = (\"1 12345 . C T . . . .\",\n",
    "                          \"22 12345 . C T . . . .\",\n",
    "                          \"X 12345 . C T . . . .\",\n",
    "                          \"Y 12345 . C T . . . .\",\n",
    "                          \"MT 12345 . C T . . . .\",\n",
    "                          \"MT2 12345 . C T . . . .\",\n",
    "                          \"GL011101 12345 . C T . . . .\")\n",
    "\n",
    "#Find\n",
    "# autosomes, X, Y\n",
    "# all but MT\n",
    "# non-autosomes\n",
    "for line in some_presudo_vcf_lines:\n",
    "    if(re.match('',line)): print(line)\n",
    "\n"
   ]
  },
  {
   "cell_type": "code",
   "execution_count": 8,
   "metadata": {
    "collapsed": false
   },
   "outputs": [
    {
     "name": "stdout",
     "output_type": "stream",
     "text": [
      "Consequence annotations from Ensembl VEP. Format: Allele|Consequence|IMPACT|SYMBOL|Gene|Feature_type|Feature|BIOTYPE|EXON|INTRON|HGVSc|HGVSp|cDNA_position|CDS_position|Protein_position|Amino_acids|Codons|Existing_variation|ALLELE_NUM|DISTANCE|STRAND|VARIANT_CLASS|MINIMISED|SYMBOL_SOURCE|HGNC_ID|CANONICAL|TSL|CCDS|ENSP|SWISSPROT|TREMBL|UNIPARC|SIFT|PolyPhen|DOMAINS|HGVS_OFFSET|GMAF|AFR_MAF|AMR_MAF|ASN_MAF|EAS_MAF|EUR_MAF|SAS_MAF|AA_MAF|EA_MAF|CLIN_SIG|SOMATIC|PHENO|PUBMED|MOTIF_NAME|MOTIF_POS|HIGH_INF_POS|MOTIF_SCORE_CHANGE|LoF_info|LoF_flags|LoF_filter|LoF|context|ancestral\n"
     ]
    }
   ],
   "source": [
    "#Capturing groups\n",
    "#Find the CSQ line a VCF header and extract it's description \n",
    "vcf = open(\"ATGU/exac.head.vcf\")\n",
    "for line in vcf:\n",
    "    match = re.search('^##INFO=<ID=CSQ.*Description=\"([^\"]+)\"',line)\n",
    "    if(match): print(match.group(1))\n"
   ]
  },
  {
   "cell_type": "code",
   "execution_count": 3,
   "metadata": {
    "collapsed": false
   },
   "outputs": [
    {
     "name": "stdout",
     "output_type": "stream",
     "text": [
      "Consequence annotations from Ensembl VEP. Format: Allele|Consequence|IMPACT|SYMBOL|Gene|Feature_type|Feature|BIOTYPE|EXON|INTRON|HGVSc|HGVSp|cDNA_position|CDS_position|Protein_position|Amino_acids|Codons|Existing_variation|ALLELE_NUM|DISTANCE|STRAND|VARIANT_CLASS|MINIMISED|SYMBOL_SOURCE|HGNC_ID|CANONICAL|TSL|CCDS|ENSP|SWISSPROT|TREMBL|UNIPARC|SIFT|PolyPhen|DOMAINS|HGVS_OFFSET|GMAF|AFR_MAF|AMR_MAF|ASN_MAF|EAS_MAF|EUR_MAF|SAS_MAF|AA_MAF|EA_MAF|CLIN_SIG|SOMATIC|PHENO|PUBMED|MOTIF_NAME|MOTIF_POS|HIGH_INF_POS|MOTIF_SCORE_CHANGE|LoF_info|LoF_flags|LoF_filter|LoF|context|ancestral\n",
      "['Consequence', 'IMPACT', 'SYMBOL', 'Gene', 'Feature_type', 'Feature', 'BIOTYPE', 'EXON', 'INTRON', 'HGVSc', 'HGVSp', 'cDNA_position', 'CDS_position', 'Protein_position', 'Amino_acids', 'Codons', 'Existing_variation', 'ALLELE_NUM', 'DISTANCE', 'STRAND', 'VARIANT_CLASS', 'MINIMISED', 'SYMBOL_SOURCE', 'HGNC_ID', 'CANONICAL', 'TSL', 'CCDS', 'ENSP', 'SWISSPROT', 'TREMBL', 'UNIPARC', 'SIFT', 'PolyPhen', 'DOMAINS', 'HGVS_OFFSET', 'GMAF', 'AFR_MAF', 'AMR_MAF', 'ASN_MAF', 'EAS_MAF', 'EUR_MAF', 'SAS_MAF', 'AA_MAF', 'EA_MAF', 'CLIN_SIG', 'SOMATIC', 'PHENO', 'PUBMED', 'MOTIF_NAME', 'MOTIF_POS', 'HIGH_INF_POS', 'MOTIF_SCORE_CHANGE', 'LoF_info', 'LoF_flags', 'LoF_filter', 'LoF', 'context']\n"
     ]
    }
   ],
   "source": [
    "#Greedy / minimal and look-ahead\n",
    "#Extract the fields from the CSQ line\n",
    "vcf = open(\"exac.head.vcf\")\n",
    "for line in vcf:\n",
    "    match = re.search('^##INFO=<ID=CSQ.*Description=\"([^\"]+)\"',line)\n",
    "    if(match):\n",
    "        print(match.group(1))\n",
    "        fields = re.findall('(?<=\\|).*?(?=\\|)',match.group(1))\n",
    "        print(fields)"
   ]
  },
  {
   "cell_type": "code",
   "execution_count": 17,
   "metadata": {
    "collapsed": false
   },
   "outputs": [
    {
     "name": "stdout",
     "output_type": "stream",
     "text": [
      "<_sre.SRE_Match object; span=(80, 121), match='AC=2;AC_AFR=0;AC_AMR=0;AC_Adj=0;AC_EAS=2;'>\n",
      "<_sre.SRE_Match object; span=(0, 7), match='the the'>\n",
      "1\t13402\t.\tG\tC\t89.66\tVQSRTrancheSNP99.60to99.80\tAC=2;AC_AFR=2\n",
      "1\t17353\t.\tG\tC\t395.44\tVQSRTrancheSNP99.60to99.80\tAC=1;AC_AFR=1\n",
      "1\t69337\t.\tA\tC\t201.41\tVQSRTrancheSNP99.60to99.80\tAC=1;AC_AFR=1\n",
      "1\t69474\t.\tT\tG\t654.76\tVQSRTrancheSNP99.60to99.80\tAC=1;AC_AFR=1\n",
      "1\t69487\t.\tG\tA\t5217.54\tVQSRTrancheSNP99.60to99.80\tAC=2;AC_AFR=2\n",
      "1\t69555\t.\tT\tG\t1961.95\tPASS\tAC=1;AC_AFR=1\n",
      "1\t69565\t.\tT\tG\t8686.54\tPASS\tAC=2;AC_AFR=2\n",
      "1\t69655\t.\tG\tC\t281.62\tVQSRTrancheSNP99.60to99.80\tAC=2;AC_AFR=2\n",
      "1\t69680\t.\tG\tA\t409.76\tVQSRTrancheSNP99.60to99.80\tAC=2;AC_AFR=2\n",
      "1\t69724\t.\tA\tC\t117.07\tVQSRTrancheSNP99.80to99.90\tAC=1;AC_AFR=1\n",
      "1\t69756\t.\tT\tC\t64.69\tVQSRTrancheSNP99.60to99.80\tAC=1;AC_AFR=1\n",
      "1\t69819\t.\tC\tA\t128.04\tPASS\tAC=1;AC_AFR=1\n",
      "1\t69829\t.\tT\tC\t1186.87\tPASS\tAC=2;AC_AFR=2\n",
      "1\t138736\t.\tG\tA\t270.22\tVQSRTrancheSNP99.60to99.80\tAC=2;AC_AFR=2\n",
      "1\t138846\t.\tC\tT\t290.21\tVQSRTrancheSNP99.60to99.80\tAC=1;AC_AFR=1\n",
      "1\t138913\t.\tG\tA\t1332.84\tVQSRTrancheSNP99.60to99.80\tAC=5;AC_AFR=5\n",
      "1\t139069\t.\tC\tA\t2166.80\tPASS\tAC=3;AC_AFR=3\n",
      "1\t139189\t.\tG\tT\t1615.33\tVQSRTrancheSNP99.60to99.80\tAC=7;AC_AFR=7\n",
      "1\t139294\t.\tG\tA\t759.43\tVQSRTrancheSNP99.80to99.90\tAC=1;AC_AFR=1\n",
      "1\t567747\t.\tC\tT\t5174.60\tVQSRTrancheSNP99.60to99.80\tAC=2;AC_AFR=2\n",
      "1\t664702\t.\tT\tG\t219.65\tVQSRTrancheSNP99.60to99.80\tAC=2;AC_AFR=2\n",
      "1\t664737\t.\tG\tC\t3332.98\tVQSRTrancheSNP99.80to99.90\tAC=3;AC_AFR=3\n",
      "1\t664828\t.\tG\tA\t565.33\tVQSRTrancheSNP99.80to99.90\tAC=1;AC_AFR=1\n",
      "1\t721891\t.\tG\tA\t961.20\tVQSRTrancheSNP99.60to99.80\tAC=1;AC_AFR=1\n",
      "1\t762124\t.\tC\tT\t381.28\tPASS\tAC=1;AC_AFR=1\n",
      "1\t762244\t.\tC\tT\t1623.35\tPASS\tAC=1;AC_AFR=1\n",
      "1\t762307\t.\tG\tA\t17520.16\tVQSRTrancheSNP99.80to99.90\tAC=15;AC_AFR=15\n",
      "1\t762352\t.\tC\tG\t11669.88\tVQSRTrancheSNP99.60to99.80\tAC=16;AC_AFR=16\n",
      "1\t762469\t.\tG\tA\t3096.65\tVQSRTrancheSNP99.60to99.80\tAC=1;AC_AFR=1\n",
      "1\t762491\t.\tG\tA\t286.86\tVQSRTrancheSNP99.60to99.80\tAC=1;AC_AFR=1\n",
      "1\t762536\t.\tG\tC\t2584.28\tVQSRTrancheSNP99.60to99.80\tAC=4;AC_AFR=4\n",
      "1\t762538\t.\tG\tA\t5078.77\tPASS\tAC=4;AC_AFR=4\n",
      "1\t762602\t.\tA\tC\t476.18\tPASS\tAC=1;AC_AFR=1\n",
      "1\t762611\t.\tG\tT\t327.40\tPASS\tAC=1;AC_AFR=1\n",
      "1\t819517\t.\tT\tA\t45.58\tPASS\tAC=1;AC_AFR=1\n",
      "1\t861275\t.\tC\tT\t880.54\tPASS\tAC=1;AC_AFR=1\n",
      "1\t865575\trs143052291\tC\tT\t348.36\tPASS\tAC=1;AC_AFR=1\n",
      "1\t865717\t.\tG\tA\t589.78\tPASS\tAC=1;AC_AFR=1\n",
      "1\t866387\t.\tG\tA\t4501.89\tPASS\tAC=1;AC_AFR=1\n",
      "1\t866412\t.\tC\tT\t2494.49\tPASS\tAC=1;AC_AFR=1\n",
      "1\t866520\t.\tC\tT\t109.70\tPASS\tAC=1;AC_AFR=1\n",
      "1\t871109\t.\tG\tA\t3441.03\tPASS\tAC=1;AC_AFR=1\n",
      "1\t871124\t.\tG\tT\t5391.87\tPASS\tAC=1;AC_AFR=1\n",
      "1\t871129\t.\tC\tT\t156015.64\tPASS\tAC=44;AC_AFR=44\n",
      "1\t871140\t.\tC\tT\t2503.48\tPASS\tAC=1;AC_AFR=1\n",
      "1\t871174\t.\tC\tT\t3392.01\tPASS\tAC=1;AC_AFR=1\n",
      "1\t871293\t.\tG\tA\t468.65\tPASS\tAC=1;AC_AFR=1\n",
      "1\t874451\t.\tC\tT\t854.06\tPASS\tAC=1;AC_AFR=1\n",
      "1\t874479\t.\tG\tA\t149.66\tPASS\tAC=1;AC_AFR=1\n",
      "1\t874680\t.\tG\tA\t376.14\tPASS\tAC=1;AC_AFR=1\n",
      "1\t874731\t.\tG\tA\t107.55\tPASS\tAC=1;AC_AFR=1\n",
      "1\t874757\t.\tC\tT\t284.52\tVQSRTrancheSNP99.60to99.80\tAC=1;AC_AFR=1\n",
      "1\t874888\t.\tC\tCGGTG\t237.45\tVQSRTrancheINDEL99.50to99.90\tAC=3;AC_AFR=3\n",
      "1\t874890\t.\tT\tG\t1318.91\tPASS\tAC=2;AC_AFR=2\n",
      "1\t874892\t.\tT\tA\t503.49\tVQSRTrancheSNP99.60to99.80\tAC=2;AC_AFR=2\n"
     ]
    }
   ],
   "source": [
    "#Capturing groups 2\n",
    "#Get all VCF lines where all alleles are in AFR\n",
    "#That is AC_AFR == AC\n",
    "vcf = open(\"ATGU/exac.head.vcf\")\n",
    "for line in vcf:\n",
    "    match = re.search('^.*?AC=(\\d+);.*AC_AFR=\\\\1',line)\n",
    "    if(match): print(match.group(0))\n",
    "\n",
    "\n"
   ]
  },
  {
   "cell_type": "code",
   "execution_count": 21,
   "metadata": {
    "collapsed": false
   },
   "outputs": [
    {
     "name": "stdout",
     "output_type": "stream",
     "text": [
      "['1', '12345', '678910']\n",
      "1\t12345\t678910\n"
     ]
    }
   ],
   "source": [
    "#More regex python functions\n",
    "\n",
    "interval_line = \"1:12345-678910\"\n",
    "\n",
    "print(re.split('[:-]',interval_line))\n",
    "\n",
    "print(re.sub('[:-]','\\t',interval_line))\n"
   ]
  },
  {
   "cell_type": "code",
   "execution_count": 24,
   "metadata": {
    "collapsed": false
   },
   "outputs": [
    {
     "name": "stdout",
     "output_type": "stream",
     "text": [
      "1 12345 NA NA NA NA NA\n"
     ]
    }
   ],
   "source": [
    "#More subs\n",
    "annoying_data = \"1 12345 . _ na Na NA\"\n",
    "print(re.sub('\\.|[nN][aA]|_','NA',annoying_data))\n",
    "\n"
   ]
  },
  {
   "cell_type": "code",
   "execution_count": 32,
   "metadata": {
    "collapsed": false
   },
   "outputs": [
    {
     "name": "stdout",
     "output_type": "stream",
     "text": [
      "blah blah blah \n"
     ]
    }
   ],
   "source": [
    "#Ignoring case -- flags\n",
    "more_annoying_data = \"blahBLAHBlAh\"\n",
    "print(re.sub('blah','blah ',more_annoying_data,flags=re.I))\n",
    "\n"
   ]
  },
  {
   "cell_type": "code",
   "execution_count": 43,
   "metadata": {
    "collapsed": false
   },
   "outputs": [
    {
     "name": "stdout",
     "output_type": "stream",
     "text": [
      "<_sre.SRE_Match object; span=(0, 2), match='t\\t'>\n"
     ]
    }
   ],
   "source": []
  },
  {
   "cell_type": "code",
   "execution_count": null,
   "metadata": {
    "collapsed": true
   },
   "outputs": [],
   "source": []
  },
  {
   "cell_type": "code",
   "execution_count": null,
   "metadata": {
    "collapsed": true
   },
   "outputs": [],
   "source": []
  },
  {
   "cell_type": "code",
   "execution_count": null,
   "metadata": {
    "collapsed": true
   },
   "outputs": [],
   "source": []
  }
 ],
 "metadata": {
  "kernelspec": {
   "display_name": "Python 3",
   "language": "python",
   "name": "python3"
  },
  "language_info": {
   "codemirror_mode": {
    "name": "ipython",
    "version": 3
   },
   "file_extension": ".py",
   "mimetype": "text/x-python",
   "name": "python",
   "nbconvert_exporter": "python",
   "pygments_lexer": "ipython3",
   "version": "3.5.1"
  }
 },
 "nbformat": 4,
 "nbformat_minor": 0
}
